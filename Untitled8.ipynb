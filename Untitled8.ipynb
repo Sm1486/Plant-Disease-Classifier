{
  "nbformat": 4,
  "nbformat_minor": 0,
  "metadata": {
    "colab": {
      "provenance": []
    },
    "kernelspec": {
      "name": "python3",
      "display_name": "Python 3"
    },
    "language_info": {
      "name": "python"
    }
  },
  "cells": [
    {
      "cell_type": "code",
      "execution_count": null,
      "metadata": {
        "id": "zwGCci4UWrOF"
      },
      "outputs": [],
      "source": [
        "import numpy as np\n",
        "import pandas as pd\n",
        "import os\n",
        "import torch\n",
        "from torch.utils.data import DataLoader\n",
        "from torchvision import datasets, transforms\n",
        "from torch import nn\n",
        "import torchvision\n",
        "from torchvision import datasets\n",
        "from torchvision import transforms\n",
        "from torchvision.transforms import ToTensor\n",
        "from tqdm.auto import tqdm\n",
        "from torch.utils.data import random_split"
      ]
    },
    {
      "cell_type": "code",
      "source": [
        "device = 'cuda' if torch.cuda.is_available() else 'cpu'"
      ],
      "metadata": {
        "id": "VRug-oWXavPf"
      },
      "execution_count": null,
      "outputs": []
    },
    {
      "cell_type": "code",
      "source": [
        "def accuracy_fn(y_true,y_pred):\n",
        " correct = torch.eq(y_true,y_pred).sum().item()\n",
        " acc = (correct/len(y_pred))*100\n",
        " return acc"
      ],
      "metadata": {
        "id": "rsZm335tazBb"
      },
      "execution_count": null,
      "outputs": []
    },
    {
      "cell_type": "code",
      "source": [
        "class PlantDiseaseModel(nn.Module):\n",
        "    def __init__(self, hidden_units, input_units, output_units):\n",
        "        super().__init__()\n",
        "        self.conv_block1 = nn.Sequential(\n",
        "            nn.Conv2d(input_units, hidden_units, kernel_size=3, padding=1),\n",
        "            nn.BatchNorm2d(hidden_units),\n",
        "            nn.ReLU(),\n",
        "            nn.Conv2d(hidden_units, hidden_units, kernel_size=3, padding=1),\n",
        "            nn.BatchNorm2d(hidden_units),\n",
        "            nn.ReLU(),\n",
        "            nn.MaxPool2d(kernel_size=3),\n",
        "            nn.Dropout(0.5)  # Increased dropout\n",
        "        )\n",
        "        self.conv_block2 = nn.Sequential(\n",
        "            nn.Conv2d(hidden_units, hidden_units, kernel_size=3, padding=1),\n",
        "            nn.BatchNorm2d(hidden_units),\n",
        "            nn.ReLU(),\n",
        "            nn.Conv2d(hidden_units, hidden_units, kernel_size=3, padding=1),\n",
        "            nn.BatchNorm2d(hidden_units),\n",
        "            nn.ReLU(),\n",
        "            nn.MaxPool2d(kernel_size=3),\n",
        "            nn.Dropout(0.5)  # Increased dropout\n",
        "        )\n",
        "        self.conv_block3 = nn.Sequential(\n",
        "            nn.Conv2d(hidden_units, hidden_units, kernel_size=3, padding=1),\n",
        "            nn.BatchNorm2d(hidden_units),\n",
        "            nn.ReLU(),\n",
        "            nn.Conv2d(hidden_units, hidden_units, kernel_size=3, padding=1),\n",
        "            nn.BatchNorm2d(hidden_units),\n",
        "            nn.ReLU(),\n",
        "            nn.MaxPool2d(kernel_size=3),\n",
        "            nn.Dropout(0.5)  # Increased dropout\n",
        "        )\n",
        "\n",
        "        dummy_input = torch.randn(1, input_units, 128, 128)\n",
        "        out = self.conv_block3(self.conv_block2(self.conv_block1(dummy_input)))\n",
        "        in_features = out.view(1, -1).shape[1]\n",
        "\n",
        "        self.classifier = nn.Sequential(\n",
        "            nn.Flatten(),\n",
        "            nn.Linear(in_features, output_units)\n",
        "        )\n",
        "\n",
        "    def forward(self, x):\n",
        "        return self.classifier(self.conv_block3(self.conv_block2(self.conv_block1(x))))\n",
        "\n",
        "model = PlantDiseaseModel(hidden_units = 32,\n",
        "                         input_units = 3,\n",
        "                         output_units = 39).to(device)"
      ],
      "metadata": {
        "id": "gJd2AxA0a28d"
      },
      "execution_count": null,
      "outputs": []
    },
    {
      "cell_type": "code",
      "source": [
        "final_model = PlantDiseaseModel(hidden_units = 32,\n",
        "                         input_units = 3,\n",
        "                         output_units = 39).to(device)\n",
        "\n",
        "checkpoint = torch.load(\"/content/best_model (9) 87.pth\", map_location=torch.device(device))\n",
        "final_model.load_state_dict(checkpoint['model_state_dict'])"
      ],
      "metadata": {
        "colab": {
          "base_uri": "https://localhost:8080/"
        },
        "id": "TIjWF5Zca6rw",
        "outputId": "05e0e41e-1115-449d-e734-5d947159f1f7"
      },
      "execution_count": null,
      "outputs": [
        {
          "output_type": "execute_result",
          "data": {
            "text/plain": [
              "<All keys matched successfully>"
            ]
          },
          "metadata": {},
          "execution_count": 56
        }
      ]
    },
    {
      "cell_type": "code",
      "source": [
        "class_to_idx = {'Apple___Apple_scab': 0, 'Apple___Black_rot': 1, 'Apple___Cedar_apple_rust': 2, 'Apple___healthy': 3, 'Background_without_leaves': 4, 'Blueberry___healthy': 5, 'Cherry___Powdery_mildew': 6, 'Cherry___healthy': 7, 'Corn___Cercospora_leaf_spot Gray_leaf_spot': 8, 'Corn___Common_rust': 9, 'Corn___Northern_Leaf_Blight': 10, 'Corn___healthy': 11, 'Grape___Black_rot': 12, 'Grape___Esca_(Black_Measles)': 13, 'Grape___Leaf_blight_(Isariopsis_Leaf_Spot)': 14, 'Grape___healthy': 15, 'Orange___Haunglongbing_(Citrus_greening)': 16, 'Peach___Bacterial_spot': 17, 'Peach___healthy': 18, 'Pepper,_bell___Bacterial_spot': 19, 'Pepper,_bell___healthy': 20, 'Potato___Early_blight': 21, 'Potato___Late_blight': 22, 'Potato___healthy': 23, 'Raspberry___healthy': 24, 'Soybean___healthy': 25, 'Squash___Powdery_mildew': 26, 'Strawberry___Leaf_scorch': 27, 'Strawberry___healthy': 28, 'Tomato___Bacterial_spot': 29, 'Tomato___Early_blight': 30, 'Tomato___Late_blight': 31, 'Tomato___Leaf_Mold': 32, 'Tomato___Septoria_leaf_spot': 33, 'Tomato___Spider_mites Two-spotted_spider_mite': 34, 'Tomato___Target_Spot': 35, 'Tomato___Tomato_Yellow_Leaf_Curl_Virus': 36, 'Tomato___Tomato_mosaic_virus': 37, 'Tomato___healthy': 38}"
      ],
      "metadata": {
        "id": "7L0NNKF3a-kf"
      },
      "execution_count": null,
      "outputs": []
    },
    {
      "cell_type": "code",
      "source": [
        "idx_to_class = {v: k for k, v in class_to_idx.items()}"
      ],
      "metadata": {
        "id": "fGtAlnpma_CQ"
      },
      "execution_count": null,
      "outputs": []
    },
    {
      "cell_type": "code",
      "source": [
        "import requests\n",
        "import numpy as np\n",
        "import cv2\n",
        "from PIL import Image\n",
        "import torch\n",
        "\n",
        "test_transform = transforms.Compose([\n",
        "    transforms.Resize((128, 128)),\n",
        "    transforms.ToTensor(),\n",
        "    transforms.Normalize([0.5], [0.5])\n",
        "])\n",
        "\n",
        "\n",
        "# ✅ Use a valid image URL\n",
        "image_url = \"https://ipm.ucanr.edu/PMG/IMAGES/U/D-GR-UNKN-FO.003banner.png\"\n",
        "\n",
        "# Fake browser headers\n",
        "headers = {\n",
        "    \"User-Agent\": \"Mozilla/5.0\"\n",
        "}\n",
        "\n",
        "# Fetch image\n",
        "response = requests.get(image_url, headers=headers)\n",
        "\n",
        "if response.status_code == 200:\n",
        "    try:\n",
        "        # Convert image bytes to numpy array\n",
        "        image_array = np.asarray(bytearray(response.content), dtype=np.uint8)\n",
        "        img_cv2 = cv2.imdecode(image_array, cv2.IMREAD_COLOR)\n",
        "\n",
        "        # Convert BGR (OpenCV) to RGB (PIL expects RGB)\n",
        "        img_rgb = cv2.cvtColor(img_cv2, cv2.COLOR_BGR2RGB)\n",
        "        img_pil = Image.fromarray(img_rgb)\n",
        "\n",
        "        # Preprocess\n",
        "        x_processed = test_transform(img_pil).unsqueeze(0).to(device)\n",
        "\n",
        "        # Predict\n",
        "        final_model = final_model.to(device)\n",
        "        final_model.eval()\n",
        "        with torch.no_grad():\n",
        "            y = final_model(x_processed)\n",
        "\n",
        "        predicted_class = torch.argmax(y, dim=1).item()\n",
        "        predicted_disease = idx_to_class.get(predicted_class, \"Unknown class\")\n",
        "        print(f\"✅ Detected Disease: {predicted_disease}\")\n",
        "\n",
        "        disease_info = get_disease_info(predicted_disease)\n",
        "        print(f\"🩺 Disease Information: {disease_info}\")\n",
        "\n",
        "    except Exception as e:\n",
        "        print(f\"❌ Error processing image: {e}\")\n",
        "else:\n",
        "    print(f\"❌ Failed to download image, status code: {response.status_code}\")\n"
      ],
      "metadata": {
        "colab": {
          "base_uri": "https://localhost:8080/"
        },
        "id": "bDI8oLXlbKtt",
        "outputId": "ca0f2623-669d-401b-ed62-aa357363d378"
      },
      "execution_count": null,
      "outputs": [
        {
          "output_type": "stream",
          "name": "stdout",
          "text": [
            "✅ Detected Disease: Grape___Esca_(Black_Measles)\n",
            "❌ Error processing image: name 'get_disease_info' is not defined\n"
          ]
        }
      ]
    },
    {
      "cell_type": "code",
      "source": [
        "import torch\n",
        "from torchvision import transforms\n",
        "from PIL import Image\n",
        "\n",
        "test_transform = transforms.Compose([\n",
        "    transforms.Resize((128, 128)),\n",
        "    transforms.ToTensor(),\n",
        "    transforms.Normalize([0.5], [0.5])\n",
        "])\n",
        "\n",
        "#load the image\n",
        "image_path = \"/content/ChatGPT Image Apr 8, 2025, 11_05_00 PM.png\"\n",
        "\n",
        "#preprocess the image\n",
        "image = Image.open(image_path).convert(\"RGB\")\n",
        "x_processed = test_transform(image)\n",
        "x_processed = x_processed.unsqueeze(0)\n",
        "x_processed = x_processed.to(device)\n",
        "\n",
        "#make the prediction\n",
        "final_model = final_model.to(device)\n",
        "final_model.eval()\n",
        "\n",
        "with torch.no_grad():\n",
        "    y = final_model(x_processed)\n",
        "\n",
        "predicted_class = torch.argmax(y, dim=1).item()\n",
        "predicted_disease = idx_to_class.get(predicted_class, \"Unknown class\")\n",
        "print(f\"Detected Disease: {predicted_disease}\")"
      ],
      "metadata": {
        "colab": {
          "base_uri": "https://localhost:8080/"
        },
        "id": "kjJJpKDheLmp",
        "outputId": "ad256574-2ca8-4a6a-f19e-0b41ad4a43d7"
      },
      "execution_count": null,
      "outputs": [
        {
          "output_type": "stream",
          "name": "stdout",
          "text": [
            "Detected Disease: Corn___Northern_Leaf_Blight\n"
          ]
        }
      ]
    },
    {
      "cell_type": "code",
      "source": [
        "#Worked for\n",
        "\"\"\"\n",
        "Strawberry___Leaf_scorch\n",
        "image_url = \"https://upload.wikimedia.org/wikipedia/commons/thumb/3/34/Rode-vlekkenziekte_%28Diplocarpon_earlianum%29.jpg/1200px-Rode-vlekkenziekte_%28Diplocarpon_earlianum%29.jpg\"\n",
        "\n",
        "Grape___Esca_(Black_Measles)\n",
        "image_url = \"https://ipm.ucanr.edu/PMG/IMAGES/U/D-GR-UNKN-FO.003banner.png\"\n",
        "\n",
        "\"\"\""
      ],
      "metadata": {
        "id": "yHiutz1UbQZe"
      },
      "execution_count": null,
      "outputs": []
    }
  ]
}